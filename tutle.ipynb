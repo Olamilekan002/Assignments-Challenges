{
 "cells": [
  {
   "cell_type": "code",
   "execution_count": null,
   "metadata": {
    "scrolled": true
   },
   "outputs": [],
   "source": [
    "import turtle\n",
    "\n",
    "def draw_square():\n",
    "    window = turtle.Screen()\n",
    "    window.bgcolor(\"red\")\n",
    "    \n",
    "    lekan = turtle.Turtle()\n",
    "    lekan.shape(\"arrow\")\n",
    "    lekan.color(\"yellow\")\n",
    "    lekan.speed(20)\n",
    "    for i in range(1,721):\n",
    "        for i in range(1,5):\n",
    "            lekan.forward(100)\n",
    "            lekan.right(90)\n",
    "        lekan.right(0.5)\n",
    "\n",
    "    \n",
    "    #mat = turtle.Turtle()\n",
    "    #mat.shape(\"arrow\")\n",
    "    #mat.color(\"white\")\n",
    "    #mat.circle(100)\n",
    "     \n",
    "    \n",
    "    window.exitonclick()\n",
    "    \n",
    "draw_square()"
   ]
  },
  {
   "cell_type": "code",
   "execution_count": null,
   "metadata": {},
   "outputs": [],
   "source": [
    "import turtle\n",
    "window = turtle.Screen()\n",
    "window.bgcolor(\"green\")\n",
    "\n",
    "mat = turtle.Turtle()\n",
    "mat.shape(\"turtle\")\n",
    "mat.color(\"yellow\")\n",
    "mat.speed(10)\n",
    "for i in range(1,90):\n",
    "    for i in range(1,3):\n",
    "        mat.forward(50)\n",
    "        mat.left(120)\n",
    "        #mat.forward(100)\n",
    "        #mat.left(120)\n",
    "    mat.right(10)\n",
    "\n",
    "\n",
    "window.exitonclick()"
   ]
  },
  {
   "cell_type": "code",
   "execution_count": null,
   "metadata": {},
   "outputs": [],
   "source": []
  },
  {
   "cell_type": "code",
   "execution_count": null,
   "metadata": {},
   "outputs": [],
   "source": []
  }
 ],
 "metadata": {
  "kernelspec": {
   "display_name": "Python 2",
   "language": "python",
   "name": "python2"
  },
  "language_info": {
   "codemirror_mode": {
    "name": "ipython",
    "version": 2
   },
   "file_extension": ".py",
   "mimetype": "text/x-python",
   "name": "python",
   "nbconvert_exporter": "python",
   "pygments_lexer": "ipython2",
   "version": "2.7.16"
  }
 },
 "nbformat": 4,
 "nbformat_minor": 2
}
